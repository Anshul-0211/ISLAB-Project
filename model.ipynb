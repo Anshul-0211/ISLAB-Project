{
 "cells": [
  {
   "cell_type": "code",
   "execution_count": null,
   "metadata": {},
   "outputs": [],
   "source": [
    "import pandas as pd\n",
    "\n",
    "# Load the dataset\n",
    "dataset_url = \"dataset_phishing.csv\"  # replace with the actual URL\n",
    "data = pd.read_csv(dataset_url)\n",
    "\n",
    "# Display a sample of the dataset\n",
    "print(data.head())\n"
   ]
  }
 ],
 "metadata": {
  "language_info": {
   "name": "python"
  }
 },
 "nbformat": 4,
 "nbformat_minor": 2
}
